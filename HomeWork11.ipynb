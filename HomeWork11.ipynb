{
 "cells": [
  {
   "cell_type": "code",
   "execution_count": 1,
   "id": "b9867dc4",
   "metadata": {},
   "outputs": [],
   "source": [
    "import os\n",
    "import shutil"
   ]
  },
  {
   "cell_type": "code",
   "execution_count": null,
   "id": "64908073",
   "metadata": {},
   "outputs": [
    {
     "name": "stdout",
     "output_type": "stream",
     "text": [
      "Добро пожаловать в программу!\n",
      "1. Создать файл\n",
      "2. Создать папку\n",
      "3. Удалить файл\n",
      "4. Удалить папку\n",
      "5. Переместить файл/папку\n",
      "6. Скопировать файл/папку\n",
      "0. Выйти\n"
     ]
    },
    {
     "name": "stdin",
     "output_type": "stream",
     "text": [
      "Выберите действие:  2\n"
     ]
    }
   ],
   "source": [
    "def get_path(description):\n",
    "    path = input(f'{description}: \\n')\n",
    "    return path\n",
    "def check_exists(path, type_check):\n",
    "    if type_check == 'folder':\n",
    "        check = os.path.isdir(path)\n",
    "    if type_check == 'file':\n",
    "        check = os.path.isfile(path)\n",
    "    return check\n",
    "def create_file(path):\n",
    "    try:\n",
    "        if check_exists(path,'file'):\n",
    "            query = input('\\nТакой файл уже существует, перезаписать?(y/n)\\n')\n",
    "            if query.lower() == 'y':\n",
    "                open(path, 'w')\n",
    "                print(f'\\nФайл перезаписан:{path}')\n",
    "        else:\n",
    "            open(path, 'w')\n",
    "            print(f'\\nФайл создан:{path}')\n",
    "    except Exception as err:\n",
    "        print(err)\n",
    "def create_folder(path):\n",
    "    if check_exists(path,'folder'):\n",
    "        print('Такая папка уже существует!\\n')\n",
    "    else:\n",
    "        os.makedirs(path)\n",
    "        print(f'\\nПапка создана:{path}')\n",
    "def remove_file(path):\n",
    "    if check_exists(path,'file'):\n",
    "        os.remove(path)\n",
    "        print(f'\\nФайл удален:{path}')\n",
    "    else:\n",
    "        print(f'\\nФайл по указанному пути не существует!')\n",
    "def remove_folder(path):\n",
    "    if check_exists(path,'folder'):\n",
    "        os.rmdir(path)\n",
    "        print(f'\\nПапка удалена:{path}')\n",
    "    else:\n",
    "        print(f'\\nПапки по указанному пути не существует!')\n",
    "def move_file_folder(src_path, trg_path):\n",
    "    try:\n",
    "        shutil.move(src_path, trg_path)\n",
    "    except Exception as err:\n",
    "        print(err)\n",
    "def copy_file_folder(src_path, trg_path):\n",
    "    try:\n",
    "        shutil.copy(src_path, trg_path)\n",
    "    except Exception as err:\n",
    "        print(err)\n",
    "while True:    \n",
    "    print(\"Добро пожаловать в программу!\")\n",
    "    print(\"1. Создать файл\")    \n",
    "    print(\"2. Создать папку\")\n",
    "    print(\"3. Удалить файл\")    \n",
    "    print(\"4. Удалить папку\")\n",
    "    print(\"5. Переместить файл/папку\")    \n",
    "    print(\"6. Скопировать файл/папку\")  \n",
    "    print(\"0. Выйти\")\n",
    "    choice = input(\"Выберите действие: \")\n",
    "    if choice == '1':\n",
    "        path = input()\n",
    "        create_file(path)    \n",
    "    elif choice == '2':\n",
    "        path = input()\n",
    "        create_folder(path)\n",
    "    elif choice == '3':        \n",
    "        path = input()\n",
    "        remove_file(path)\n",
    "    elif choice == '4':        \n",
    "        path = input()\n",
    "        remove_folder(path)\n",
    "    elif choice == '5':        \n",
    "        path = input()\n",
    "        move_file_folder(path)\n",
    "    elif choice == '6':        \n",
    "        path = input()\n",
    "        copy_file_folder(path)      \n",
    "    elif choice == '0':        \n",
    "        break"
   ]
  }
 ],
 "metadata": {
  "kernelspec": {
   "display_name": "Python 3 (ipykernel)",
   "language": "python",
   "name": "python3"
  },
  "language_info": {
   "codemirror_mode": {
    "name": "ipython",
    "version": 3
   },
   "file_extension": ".py",
   "mimetype": "text/x-python",
   "name": "python",
   "nbconvert_exporter": "python",
   "pygments_lexer": "ipython3",
   "version": "3.11.5"
  }
 },
 "nbformat": 4,
 "nbformat_minor": 5
}
